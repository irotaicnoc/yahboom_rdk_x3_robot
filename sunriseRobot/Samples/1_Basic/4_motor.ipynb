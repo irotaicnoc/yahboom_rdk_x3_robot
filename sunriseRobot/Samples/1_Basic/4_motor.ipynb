{
 "cells": [
  {
   "cell_type": "code",
   "execution_count": null,
   "id": "5ac6e98b-cc7c-4473-af5c-de50da6d88b8",
   "metadata": {
    "tags": []
   },
   "outputs": [],
   "source": [
    "#!/usr/bin/env python3\n",
    "#coding=utf-8\n",
    "import time\n",
    "from ipywidgets import interact\n",
    "import ipywidgets as widgets"
   ]
  },
  {
   "cell_type": "code",
   "execution_count": null,
   "id": "a61e4c10-6650-47e0-bd01-9dada327fd21",
   "metadata": {
    "tags": []
   },
   "outputs": [],
   "source": [
    "# 导入驱动库  Import driver library\n",
    "from SunriseRobotLib import SunriseRobot\n",
    "\n",
    "# 创建SunriseRobot对象 bot \n",
    "# Create the SunriseRobot object bot\n",
    "bot = SunriseRobot()"
   ]
  },
  {
   "cell_type": "code",
   "execution_count": null,
   "id": "649029f5-902c-42aa-a226-bb57cbd5d148",
   "metadata": {
    "tags": []
   },
   "outputs": [],
   "source": [
    "# 控制电机运动 Control motor movement\n",
    "def run_motor(M1, M2, M3, M4):\n",
    "    bot.set_motor(M1, M2, M3, M4)\n",
    "    return M1, M2, M3, M4\n",
    "    \n",
    "\n",
    "# 创建四个滑块来控制电机 Create four sliders to control the motor\n",
    "interact(run_motor, \\\n",
    "         M1=widgets.IntSlider(min=-100,max=100,step=1,value=0), \\\n",
    "         M2=widgets.IntSlider(min=-100,max=100,step=1,value=0), \\\n",
    "         M3=widgets.IntSlider(min=-100,max=100,step=1,value=0), \\\n",
    "         M4=widgets.IntSlider(min=-100,max=100,step=1,value=0));\n"
   ]
  },
  {
   "cell_type": "code",
   "execution_count": null,
   "id": "ce20522b-9a67-46d2-9fe4-b52b9256511e",
   "metadata": {
    "tags": []
   },
   "outputs": [],
   "source": [
    "# 停止运动 stop motion \n",
    "bot.set_motor(0, 0, 0, 0)\n"
   ]
  },
  {
   "cell_type": "code",
   "execution_count": null,
   "id": "dca91e00-07fb-409d-a4e5-6774d929ad36",
   "metadata": {
    "tags": []
   },
   "outputs": [],
   "source": [
    "# 程序结束后请删除对象，避免在其他程序中使用SunriseRobot库造成冲突\n",
    "# Please delete the object after the program to avoid conflicts caused by SunriseRobot library in other programs\n",
    "del bot"
   ]
  },
  {
   "cell_type": "code",
   "execution_count": null,
   "id": "295cb2cf-b1d5-458c-94f5-e56ad9c3246e",
   "metadata": {},
   "outputs": [],
   "source": []
  }
 ],
 "metadata": {
  "kernelspec": {
   "display_name": "Python 3 (ipykernel)",
   "language": "python",
   "name": "python3"
  },
  "language_info": {
   "codemirror_mode": {
    "name": "ipython",
    "version": 3
   },
   "file_extension": ".py",
   "mimetype": "text/x-python",
   "name": "python",
   "nbconvert_exporter": "python",
   "pygments_lexer": "ipython3",
   "version": "3.8.10"
  }
 },
 "nbformat": 4,
 "nbformat_minor": 5
}
