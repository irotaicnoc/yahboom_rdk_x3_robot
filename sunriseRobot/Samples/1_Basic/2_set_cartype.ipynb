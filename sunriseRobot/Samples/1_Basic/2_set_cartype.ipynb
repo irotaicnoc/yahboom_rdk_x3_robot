{
 "cells": [
  {
   "cell_type": "code",
   "execution_count": 1,
   "id": "0b64905e",
   "metadata": {},
   "outputs": [],
   "source": [
    "# 导入驱动库  Import driver library\n",
    "from SunriseRobotLib import SunriseRobot"
   ]
  },
  {
   "cell_type": "code",
   "execution_count": 2,
   "id": "2b9babf6",
   "metadata": {
    "tags": []
   },
   "outputs": [
    {
     "name": "stdout",
     "output_type": "stream",
     "text": [
      "Sunrise Robot Serial Opened! Baudrate=115200\n"
     ]
    }
   ],
   "source": [
    "# 创建SunriseRobot对象 bot \n",
    "# Create the SunriseRobot object bot\n",
    "bot = SunriseRobot()\n"
   ]
  },
  {
   "cell_type": "code",
   "execution_count": 3,
   "id": "2b97a599",
   "metadata": {},
   "outputs": [
    {
     "name": "stdout",
     "output_type": "stream",
     "text": [
      "----------------create receive threading--------------\n"
     ]
    }
   ],
   "source": [
    "# 启动接收数据，只能启动一次，所有读取数据的功能都是基于此方法 \n",
    "# Start to receive data, can only start once, all read data function is based on this method  \n",
    "bot.create_receive_threading()"
   ]
  },
  {
   "cell_type": "code",
   "execution_count": 4,
   "id": "75b458c5",
   "metadata": {},
   "outputs": [],
   "source": [
    "# 设置小车类型为sunriseRobot\n",
    "bot.set_car_type(6)\n"
   ]
  },
  {
   "cell_type": "code",
   "execution_count": 5,
   "id": "6c3df250",
   "metadata": {},
   "outputs": [
    {
     "name": "stdout",
     "output_type": "stream",
     "text": [
      "6\n"
     ]
    }
   ],
   "source": [
    "# 读取小车类型\n",
    "car_type = bot.get_car_type_from_machine()\n",
    "print(car_type)"
   ]
  },
  {
   "cell_type": "code",
   "execution_count": 6,
   "id": "064bc88a",
   "metadata": {},
   "outputs": [],
   "source": [
    "# 程序结束后请删除对象，避免在其他程序中使用SunriseRobot库造成冲突\n",
    "# Please delete the object after the program to avoid conflicts caused by SunriseRobot library in other programs\n",
    "del bot"
   ]
  },
  {
   "cell_type": "code",
   "execution_count": null,
   "id": "8eb9fee8",
   "metadata": {},
   "outputs": [],
   "source": []
  }
 ],
 "metadata": {
  "kernelspec": {
   "display_name": "Python 3 (ipykernel)",
   "language": "python",
   "name": "python3"
  },
  "language_info": {
   "codemirror_mode": {
    "name": "ipython",
    "version": 3
   },
   "file_extension": ".py",
   "mimetype": "text/x-python",
   "name": "python",
   "nbconvert_exporter": "python",
   "pygments_lexer": "ipython3",
   "version": "3.8.10"
  }
 },
 "nbformat": 4,
 "nbformat_minor": 5
}
