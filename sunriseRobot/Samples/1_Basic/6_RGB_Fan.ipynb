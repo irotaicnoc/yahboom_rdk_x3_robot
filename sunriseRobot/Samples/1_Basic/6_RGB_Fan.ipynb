{
 "cells": [
  {
   "cell_type": "code",
   "execution_count": null,
   "id": "6dedfc5b-3989-4f87-922c-59874fda0770",
   "metadata": {
    "tags": []
   },
   "outputs": [],
   "source": [
    "# 导入smbus，如果没有安装，请运行pip3 install smbus安装\n",
    "# If it is not installed, run pip3 install smbus\n",
    "import smbus\n",
    "import time\n",
    "bus = smbus.SMBus(0)"
   ]
  },
  {
   "cell_type": "code",
   "execution_count": null,
   "id": "17a73684-c2b2-4ae6-b39d-98cd905e7739",
   "metadata": {
    "tags": []
   },
   "outputs": [],
   "source": [
    "# 打开风扇 open fan\n",
    "start = 1\n",
    "bus.write_byte_data(0x0d, 0x08, start)\n",
    "time.sleep(.05)"
   ]
  },
  {
   "cell_type": "code",
   "execution_count": null,
   "id": "45fb35c5-4b0e-4843-9fca-b54e9345c00c",
   "metadata": {
    "tags": []
   },
   "outputs": [],
   "source": [
    "# 关闭风扇 close fan\n",
    "bus.write_byte_data(0x0d, 0x08, 0x00)\n",
    "time.sleep(.05)"
   ]
  },
  {
   "cell_type": "code",
   "execution_count": null,
   "id": "86a1e219-6f04-4df2-9077-9d1804537697",
   "metadata": {
    "tags": []
   },
   "outputs": [],
   "source": [
    "# 灯光效果 effect=[0-4]\n",
    "# set RGB effect, effect=[0-4]\n",
    "effect = 2\n",
    "bus.write_byte_data(0x0d, 0x04, effect)\n",
    "time.sleep(.05)"
   ]
  },
  {
   "cell_type": "code",
   "execution_count": null,
   "id": "a78bc363-96bb-44b5-8773-e38e9e287ac9",
   "metadata": {
    "tags": []
   },
   "outputs": [],
   "source": [
    "# 关闭灯光\n",
    "bus.write_byte_data(0x0d, 0x07, 0x00)\n",
    "time.sleep(.05)"
   ]
  },
  {
   "cell_type": "code",
   "execution_count": null,
   "id": "0373b0ff-7c07-434b-8413-7b2cb2790565",
   "metadata": {},
   "outputs": [],
   "source": [
    "del bus"
   ]
  }
 ],
 "metadata": {
  "kernelspec": {
   "display_name": "Python 3 (ipykernel)",
   "language": "python",
   "name": "python3"
  },
  "language_info": {
   "codemirror_mode": {
    "name": "ipython",
    "version": 3
   },
   "file_extension": ".py",
   "mimetype": "text/x-python",
   "name": "python",
   "nbconvert_exporter": "python",
   "pygments_lexer": "ipython3",
   "version": "3.8.10"
  }
 },
 "nbformat": 4,
 "nbformat_minor": 5
}
