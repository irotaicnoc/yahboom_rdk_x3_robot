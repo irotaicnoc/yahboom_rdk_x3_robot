{
 "cells": [
  {
   "cell_type": "markdown",
   "metadata": {
    "tags": []
   },
   "source": [
    "<center><img src=\"../logo.png\" alt=\"Header\" style=\"width: 800px;\"/></center>"
   ]
  },
  {
   "cell_type": "markdown",
   "metadata": {},
   "source": [
    "# 颜色追踪  Color Tracking"
   ]
  },
  {
   "cell_type": "code",
   "execution_count": null,
   "metadata": {},
   "outputs": [],
   "source": [
    "# 中文开关，默认为英文 Chinese switch. The default value is English\n",
    "g_ENABLE_CHINESE = False\n",
    "\n",
    "Name_widgets = {\n",
    "    'Red': (\"Red\", \"红色\"),\n",
    "    'Green': (\"Green\", \"绿色\"),\n",
    "    'Blue': (\"Blue\", \"蓝色\"),\n",
    "    'Yellow': (\"Yellow\", \"黄色\"),\n",
    "    'Close_Camera': (\"Close_Camera\", \"关闭摄像头\")\n",
    "}"
   ]
  },
  {
   "cell_type": "code",
   "execution_count": null,
   "metadata": {},
   "outputs": [],
   "source": [
    "# 显示摄像头组件 Camera display widgets\n",
    "import ipywidgets.widgets as widgets\n",
    "from IPython.display import display\n",
    "\n",
    "import cv2\n",
    "import time\n",
    "import numpy as np\n",
    "\n",
    "\n",
    "import threading"
   ]
  },
  {
   "cell_type": "code",
   "execution_count": null,
   "metadata": {},
   "outputs": [],
   "source": [
    "#bgr8转jpeg格式\n",
    "def bgr8_to_jpeg(value, quality=75):\n",
    "    return bytes(cv2.imencode('.jpg', value)[1])"
   ]
  },
  {
   "cell_type": "code",
   "execution_count": null,
   "metadata": {},
   "outputs": [],
   "source": [
    "from SunriseRobotLib import Mipi_Camera\n",
    "\n",
    "img_width=320\n",
    "img_height=240\n",
    "\n",
    "g_camera = Mipi_Camera(img_width, img_height)\n",
    "\n",
    "if g_camera.isOpened():\n",
    "    print(\"Open Camera OK\")\n",
    "else:\n",
    "    print(\"Fail To Open Camera\")\n"
   ]
  },
  {
   "cell_type": "code",
   "execution_count": null,
   "metadata": {},
   "outputs": [],
   "source": [
    "Color_HSV = {\n",
    "    'Red': ([0, 43, 46], [10, 255, 255]),\n",
    "    'Green': ([35, 43, 46], [77, 255, 255]),\n",
    "    'Blue': ([100, 43, 46], [124, 255, 255]),\n",
    "    'Yellow': ([26, 43, 46], [34, 255, 255])\n",
    "}\n",
    "\n",
    "# 默认选择红色的，\n",
    "# The default is red.\n",
    "color_lower = np.array(Color_HSV[\"Red\"][0])\n",
    "color_upper = np.array(Color_HSV[\"Red\"][1])\n",
    "\n",
    "g_stop_program = False"
   ]
  },
  {
   "cell_type": "code",
   "execution_count": null,
   "metadata": {},
   "outputs": [],
   "source": [
    "# image_widget = widgets.Image(format='jpeg', width=320, height=240)\n",
    "# 摄像头显示控件  Camera display widgets\n",
    "DISPLAY_WIDTH = img_width\n",
    "DISPLAY_HEIGHT = img_height\n",
    "image_widget = widgets.Image(format='jpeg', width=DISPLAY_WIDTH, height=DISPLAY_HEIGHT)"
   ]
  },
  {
   "cell_type": "code",
   "execution_count": null,
   "metadata": {},
   "outputs": [],
   "source": [
    "# 颜色选择按钮配置  Color selection button configuration\n",
    "# 红色 Red\n",
    "Button_Red = widgets.Button(       \n",
    "    description=Name_widgets['Red'][g_ENABLE_CHINESE],\n",
    "    button_style='info', # 'success', 'info', 'warning', 'danger' or ''\n",
    "    tooltip='Description',\n",
    "    icon='check' )\n",
    "\n",
    "# 绿色 Green\n",
    "Button_Green = widgets.Button(     \n",
    "    description=Name_widgets['Green'][g_ENABLE_CHINESE],        \n",
    "    button_style='info', # 'success', 'info', 'warning', 'danger' or ''     \n",
    "    tooltip='Description',     \n",
    "    icon='uncheck' )\n",
    "\n",
    "# 蓝色 Blue\n",
    "Button_Blue = widgets.Button(        \n",
    "    description=Name_widgets['Blue'][g_ENABLE_CHINESE],         \n",
    "    button_style='info', # 'success', 'info', 'warning', 'danger' or ''     \n",
    "    tooltip='Description',     \n",
    "    icon='uncheck' )\n",
    "\n",
    "# 黄色 Yellow\n",
    "Button_Yellow = widgets.Button(        \n",
    "    description=Name_widgets['Yellow'][g_ENABLE_CHINESE],        \n",
    "    button_style='info', # 'success', 'info', 'warning', 'danger' or ''     \n",
    "    tooltip='Description',     \n",
    "    icon='uncheck' )\n",
    "\n",
    "# 关闭摄像头 Close_Camera\n",
    "Button_Close_Camera = widgets.Button(\n",
    "    value=False,  \n",
    "    description=Name_widgets['Close_Camera'][g_ENABLE_CHINESE],      \n",
    "    button_style='danger', # 'success', 'info', 'warning', 'danger' or ''     \n",
    "    tooltip='Description',     \n",
    "    icon='uncheck' )"
   ]
  },
  {
   "cell_type": "code",
   "execution_count": null,
   "metadata": {},
   "outputs": [],
   "source": [
    "# 清除按键显示状态  Clear button display status\n",
    "def ALL_Uncheck():\n",
    "    Button_Red.icon = 'uncheck'\n",
    "    Button_Green.icon = 'uncheck'\n",
    "    Button_Blue.icon = 'uncheck'\n",
    "    Button_Yellow.icon = 'uncheck'\n",
    "\n",
    "\n",
    "# 按键按下事件处理   Key press event processing\n",
    "def on_button_clicked(b):\n",
    "    global color_lower, color_upper, g_stop_program\n",
    "    ALL_Uncheck()\n",
    "    b.icon = 'check'\n",
    "    with output:\n",
    "        print(\"Button clicked:\", b.description)\n",
    "    if b.description == Name_widgets['Close_Camera'][g_ENABLE_CHINESE]:\n",
    "        # 停止线程，释放摄像头  Stop the thread and release the camera\n",
    "        g_stop_program = True\n",
    "        time.sleep(.1)\n",
    "        g_camera.release()\n",
    "        b.icon = 'uncheck'\n",
    "    elif b.description == Name_widgets['Red'][g_ENABLE_CHINESE]:\n",
    "        color_lower = np.array(np.array(Color_HSV[\"Red\"][0]))\n",
    "        color_upper = np.array(np.array(Color_HSV[\"Red\"][1]))\n",
    "    elif b.description == Name_widgets['Green'][g_ENABLE_CHINESE]:\n",
    "        color_lower = np.array(np.array(Color_HSV[\"Green\"][0]))\n",
    "        color_upper = np.array(np.array(Color_HSV[\"Green\"][1]))\n",
    "    elif b.description == Name_widgets['Blue'][g_ENABLE_CHINESE]:\n",
    "        color_lower = np.array(np.array(Color_HSV[\"Blue\"][0]))\n",
    "        color_upper = np.array(np.array(Color_HSV[\"Blue\"][1]))\n",
    "    elif b.description == Name_widgets['Yellow'][g_ENABLE_CHINESE]:\n",
    "        color_lower = np.array(np.array(Color_HSV[\"Yellow\"][0]))\n",
    "        color_upper = np.array(np.array(Color_HSV[\"Yellow\"][1]))\n"
   ]
  },
  {
   "cell_type": "code",
   "execution_count": null,
   "metadata": {},
   "outputs": [],
   "source": [
    "# 关联按键事件回调 Button event callbacks\n",
    "Button_Red.on_click(on_button_clicked)\n",
    "Button_Green.on_click(on_button_clicked)\n",
    "Button_Blue.on_click(on_button_clicked)\n",
    "Button_Yellow.on_click(on_button_clicked)\n",
    "Button_Close_Camera.on_click(on_button_clicked)"
   ]
  },
  {
   "cell_type": "code",
   "execution_count": null,
   "metadata": {},
   "outputs": [],
   "source": [
    "# 图像处理任务 Image processing tasks\n",
    "def task_processing():\n",
    "    global color_lower, color_upper, g_stop_program\n",
    "    t_start = time.time()\n",
    "    m_fps = 0\n",
    "    while g_camera.isOpened():\n",
    "        if g_stop_program:\n",
    "            break\n",
    "        ret, frame = g_camera.read()\n",
    "        \n",
    "        # 根据HSV值处理图像 The image is processed according to the HSV value\n",
    "        hsv = cv2.cvtColor(frame, cv2.COLOR_BGR2HSV)\n",
    "        mask = cv2.inRange(hsv, color_lower, color_upper)\n",
    "\n",
    "        cnts = cv2.findContours(mask.copy(), cv2.RETR_EXTERNAL, cv2.CHAIN_APPROX_SIMPLE)[-2] \n",
    "        if len(cnts) > 0:\n",
    "            cnt = max (cnts, key = cv2.contourArea)\n",
    "            (color_x, color_y), color_radius = cv2.minEnclosingCircle(cnt)\n",
    "            if color_radius > 10:\n",
    "                # 将检测到的颜色用圆形线圈标记出来 Mark the detected colors with circular coils\n",
    "                cv2.circle(frame, (int(color_x), int(color_y)), int(color_radius), (255,0,255), 2)\n",
    "                \n",
    "        m_fps = m_fps + 1\n",
    "        fps = m_fps / (time.time() - t_start)\n",
    "        if (time.time() - t_start) >= 2:\n",
    "            m_fps = fps\n",
    "            t_start = time.time() - 1\n",
    "        cv2.putText(frame, \"FPS \" + str(int(fps)), (10,20), cv2.FONT_HERSHEY_SIMPLEX, 0.5, (0,255,255), 1)\n",
    "        \n",
    "        # 图像传输给显示组件 The image is transmitted to the display component\n",
    "        image_widget.value = bgr8_to_jpeg(frame)\n",
    "        time.sleep(.01)\n"
   ]
  },
  {
   "cell_type": "code",
   "execution_count": null,
   "metadata": {},
   "outputs": [],
   "source": [
    "# 启动摄像头显示任务  Start the camera display task\n",
    "thread1 = threading.Thread(target=task_processing)\n",
    "thread1.setDaemon(True)\n",
    "thread1.start()\n",
    "\n",
    "# display(image_widget)\n",
    "# 创建一个横向的盒子容器，以便将图像小部件相邻放置\n",
    "# create a horizontal box container to place the image widget next to eachother\n",
    "image_container = widgets.HBox([image_widget])\n",
    "button_group = widgets.HBox([Button_Red, Button_Green, Button_Blue, Button_Yellow, Button_Close_Camera])\n",
    "output = widgets.Output()\n",
    "box_display = widgets.VBox([image_container, button_group, output])\n",
    "display(box_display)"
   ]
  },
  {
   "cell_type": "code",
   "execution_count": null,
   "metadata": {},
   "outputs": [],
   "source": []
  }
 ],
 "metadata": {
  "kernelspec": {
   "display_name": "Python 3 (ipykernel)",
   "language": "python",
   "name": "python3"
  },
  "language_info": {
   "codemirror_mode": {
    "name": "ipython",
    "version": 3
   },
   "file_extension": ".py",
   "mimetype": "text/x-python",
   "name": "python",
   "nbconvert_exporter": "python",
   "pygments_lexer": "ipython3",
   "version": "3.8.10"
  }
 },
 "nbformat": 4,
 "nbformat_minor": 4
}
