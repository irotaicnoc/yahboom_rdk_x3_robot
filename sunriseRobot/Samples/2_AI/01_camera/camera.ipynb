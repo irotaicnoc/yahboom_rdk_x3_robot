{
 "cells": [
  {
   "cell_type": "markdown",
   "metadata": {},
   "source": [
    "<center><img src=\"../logo.png\" alt=\"Header\" style=\"width: 800px;\"/></center>"
   ]
  },
  {
   "cell_type": "code",
   "execution_count": null,
   "metadata": {
    "tags": []
   },
   "outputs": [],
   "source": [
    "import cv2\n",
    "import ipywidgets.widgets as widgets\n",
    "import time\n"
   ]
  },
  {
   "cell_type": "code",
   "execution_count": null,
   "metadata": {
    "tags": []
   },
   "outputs": [],
   "source": [
    "from SunriseRobotLib import Mipi_Camera\n",
    "# 打印Mipi_Camera库的函数 Print the Mipi_Camera library function\n",
    "help(Mipi_Camera)"
   ]
  },
  {
   "cell_type": "code",
   "execution_count": null,
   "metadata": {
    "tags": []
   },
   "outputs": [],
   "source": [
    "width=320\n",
    "height=240\n",
    "g_camera = Mipi_Camera(width, height, debug=True)\n",
    "\n",
    "if g_camera.isOpened():\n",
    "    print(\"Open Camera OK\")\n",
    "else:\n",
    "    print(\"Fail To Open Camera\")"
   ]
  },
  {
   "cell_type": "code",
   "execution_count": null,
   "metadata": {
    "tags": []
   },
   "outputs": [],
   "source": [
    "#bgr8转jpeg格式\n",
    "def bgr8_to_jpeg(value, quality=75):\n",
    "    return bytes(cv2.imencode('.jpg', value)[1])\n",
    "\n",
    "image_widget = widgets.Image(format='jpeg', width=320, height=240)"
   ]
  },
  {
   "cell_type": "code",
   "execution_count": null,
   "metadata": {
    "tags": []
   },
   "outputs": [],
   "source": [
    "display(image_widget)\n",
    "\n",
    "try:\n",
    "    m_fps = 0\n",
    "    t_start = time.time()\n",
    "    while g_camera.isOpened():\n",
    "        \n",
    "        ret, frame = g_camera.read()\n",
    "        if not ret:\n",
    "            print(\"Camera Read Fail\")\n",
    "            break\n",
    "\n",
    "        m_fps = m_fps + 1\n",
    "        fps = m_fps / (time.time() - t_start)\n",
    "        if (time.time() - t_start) >= 2:\n",
    "            m_fps = fps\n",
    "            t_start = time.time() - 1\n",
    "\n",
    "        text=\"FPS:\" + str(int(fps))\n",
    "        cv2.putText(frame, text, (10, 20), cv2.FONT_HERSHEY_SIMPLEX, 0.5, (0, 255, 255), 1)\n",
    "        image_widget.value = bgr8_to_jpeg(frame)\n",
    "\n",
    "except Exception as e:\n",
    "    print(\"Exception:\", e)\n",
    "except KeyboardInterrupt:\n",
    "    print(\"KeyboardInterrupt\")\n",
    "    pass\n",
    "except:\n",
    "    print(\"Unknow error\")"
   ]
  },
  {
   "cell_type": "code",
   "execution_count": null,
   "metadata": {
    "tags": []
   },
   "outputs": [],
   "source": [
    "# 释放摄像头 release camera\n",
    "g_camera.release()"
   ]
  },
  {
   "cell_type": "code",
   "execution_count": null,
   "metadata": {},
   "outputs": [],
   "source": []
  }
 ],
 "metadata": {
  "kernelspec": {
   "display_name": "Python 3 (ipykernel)",
   "language": "python",
   "name": "python3"
  },
  "language_info": {
   "codemirror_mode": {
    "name": "ipython",
    "version": 3
   },
   "file_extension": ".py",
   "mimetype": "text/x-python",
   "name": "python",
   "nbconvert_exporter": "python",
   "pygments_lexer": "ipython3",
   "version": "3.8.10"
  }
 },
 "nbformat": 4,
 "nbformat_minor": 4
}
