{
 "cells": [
  {
   "cell_type": "markdown",
   "metadata": {
    "tags": []
   },
   "source": [
    "<center><img src=\"../logo.png\" alt=\"Header\" style=\"width: 800px;\"/></center>"
   ]
  },
  {
   "cell_type": "markdown",
   "metadata": {},
   "source": [
    "# 人脸检测 face detect"
   ]
  },
  {
   "cell_type": "markdown",
   "metadata": {},
   "source": [
    "@ 人脸检测器（默认）：haarcascade_frontalface_default.xml  \n",
    "\n",
    "@ 人脸检测器（侧视）：haarcascade_profileface.xml   \n"
   ]
  },
  {
   "cell_type": "code",
   "execution_count": null,
   "metadata": {},
   "outputs": [],
   "source": [
    "# 中文开关，默认为英文 Chinese switch. The default value is English\n",
    "g_ENABLE_CHINESE = False\n",
    "\n",
    "Name_widgets = {\n",
    "    'Start': (\"Start\", \"开始\"),\n",
    "    'Close_Camera': (\"Close_Camera\", \"关闭摄像头\")\n",
    "}"
   ]
  },
  {
   "cell_type": "code",
   "execution_count": null,
   "metadata": {},
   "outputs": [],
   "source": [
    "# 显示摄像头组件 Camera display widgets\n",
    "import ipywidgets.widgets as widgets\n",
    "from IPython.display import display\n",
    "\n",
    "import cv2\n",
    "import time\n",
    "import numpy as np\n",
    "import threading"
   ]
  },
  {
   "cell_type": "code",
   "execution_count": null,
   "metadata": {},
   "outputs": [],
   "source": [
    "#bgr8转jpeg格式\n",
    "def bgr8_to_jpeg(value, quality=75):\n",
    "    return bytes(cv2.imencode('.jpg', value)[1])"
   ]
  },
  {
   "cell_type": "code",
   "execution_count": null,
   "metadata": {},
   "outputs": [],
   "source": [
    "from SunriseRobotLib import Mipi_Camera\n",
    "\n",
    "img_width=320\n",
    "img_height=240\n",
    "\n",
    "g_camera = Mipi_Camera(img_width, img_height)\n",
    "\n",
    "if g_camera.isOpened():\n",
    "    print(\"Open Camera OK\")\n",
    "else:\n",
    "    print(\"Fail To Open Camera\")\n"
   ]
  },
  {
   "cell_type": "code",
   "execution_count": null,
   "metadata": {},
   "outputs": [],
   "source": [
    "g_stop_program = False\n",
    "g_start_function = False\n",
    "g_car_runtime = -1\n"
   ]
  },
  {
   "cell_type": "code",
   "execution_count": null,
   "metadata": {},
   "outputs": [],
   "source": [
    "# image_widget = widgets.Image(format='jpeg', width=320, height=240)\n",
    "# 摄像头显示控件  Camera display widgets\n",
    "DISPLAY_WIDTH = img_width\n",
    "DISPLAY_HEIGHT = img_height\n",
    "image_widget = widgets.Image(format='jpeg', width=DISPLAY_WIDTH, height=DISPLAY_HEIGHT)"
   ]
  },
  {
   "cell_type": "code",
   "execution_count": null,
   "metadata": {},
   "outputs": [],
   "source": [
    "# 开始 Start\n",
    "Button_Start = widgets.Button(        \n",
    "    description=Name_widgets['Start'][g_ENABLE_CHINESE],        \n",
    "    button_style='success', # 'success', 'info', 'warning', 'danger' or ''     \n",
    "    tooltip='Description',     \n",
    "    icon='uncheck' )\n",
    "\n",
    "# 关闭摄像头 Close_Camera\n",
    "Button_Close_Camera = widgets.Button(\n",
    "    value=False,  \n",
    "    description=Name_widgets['Close_Camera'][g_ENABLE_CHINESE],      \n",
    "    button_style='danger', # 'success', 'info', 'warning', 'danger' or ''     \n",
    "    tooltip='Description',     \n",
    "    icon='uncheck' )"
   ]
  },
  {
   "cell_type": "code",
   "execution_count": null,
   "metadata": {},
   "outputs": [],
   "source": [
    "# 按键按下事件处理   Key press event processing\n",
    "def on_button_clicked(b):\n",
    "    global g_stop_program\n",
    "    b.icon = 'check'\n",
    "    with output:\n",
    "        print(\"Button clicked:\", b.description)\n",
    "    if b.description == Name_widgets['Close_Camera'][g_ENABLE_CHINESE]:\n",
    "        # 停止线程，释放摄像头  Stop the thread and release the camera\n",
    "        Button_Start.icon = 'uncheck'\n",
    "        g_stop_program = True\n",
    "        time.sleep(.1)\n",
    "        g_camera.release()\n",
    "        b.icon = 'uncheck'\n",
    "        \n",
    "\n",
    "# 功能按钮按下事件处理 Function button press event handling\n",
    "def on_button_function_clicked(b):\n",
    "    global g_start_function\n",
    "    if b.description == Name_widgets['Start'][g_ENABLE_CHINESE]:\n",
    "        if b.icon == 'uncheck':\n",
    "            b.icon = 'check'\n",
    "            g_start_function = True\n",
    "        else:\n",
    "            b.icon = 'uncheck'\n",
    "            g_start_function = False\n",
    "            # time.sleep(.1)\n",
    "    with output:\n",
    "        print(\"Button clicked:\", b.description, g_start_function)"
   ]
  },
  {
   "cell_type": "code",
   "execution_count": null,
   "metadata": {},
   "outputs": [],
   "source": [
    "# 关联按键事件回调 Button event callbacks\n",
    "Button_Close_Camera.on_click(on_button_clicked)\n",
    "Button_Start.on_click(on_button_function_clicked)"
   ]
  },
  {
   "cell_type": "code",
   "execution_count": null,
   "metadata": {},
   "outputs": [],
   "source": [
    "face_haar = cv2.CascadeClassifier(\"haarcascade_frontalface_default.xml\")\n",
    "# face_haar = cv2.CascadeClassifier(\"haarcascade_profileface.xml\")\n",
    "\n",
    "def face_detect(image):\n",
    "    gray_img = cv2.cvtColor(image, cv2.COLOR_BGR2GRAY)\n",
    "    faces = face_haar.detectMultiScale(gray_img, 1.1, 3)\n",
    "    for face_x,face_y,face_w,face_h in faces:\n",
    "        return \"1\", (face_x,face_y,face_w,face_h)\n",
    "    return None, (0,0,0,0)"
   ]
  },
  {
   "cell_type": "code",
   "execution_count": null,
   "metadata": {},
   "outputs": [],
   "source": [
    "# 图像处理任务 Image processing tasks\n",
    "def task_processing():\n",
    "    global g_stop_program, g_start_function\n",
    "    \n",
    "    t_start = time.time()\n",
    "    m_fps = 0\n",
    "    fps = 0\n",
    "    while g_camera.isOpened():\n",
    "        if g_stop_program:\n",
    "            break\n",
    "        ret, frame = g_camera.read()\n",
    "        \n",
    "        if g_start_function:\n",
    "            state, (face_x,face_y,face_w,face_h) = face_detect(frame)\n",
    "            if state != None:\n",
    "                cv2.rectangle(frame, (face_x, face_y), (face_x+face_w, face_y+face_h), (0,255,255), 1)\n",
    "            # time.sleep(.01)\n",
    "            \n",
    "        m_fps = m_fps + 1\n",
    "        fps = m_fps / (time.time() - t_start)\n",
    "        if (time.time() - t_start) >= 2:\n",
    "            m_fps = fps\n",
    "            t_start = time.time() - 1\n",
    "        if g_start_function:\n",
    "            cv2.putText(frame, \"START \" + str(int(fps)), (10,20), cv2.FONT_HERSHEY_SIMPLEX, 0.5, (0,255,255), 1)\n",
    "        else:\n",
    "            cv2.putText(frame, \"FPS \" + str(int(fps)), (10,20), cv2.FONT_HERSHEY_SIMPLEX, 0.5, (0,255,255), 1)\n",
    "        \n",
    "        # 图像传输给显示组件 The image is transmitted to the display component\n",
    "        image_widget.value = bgr8_to_jpeg(frame)\n"
   ]
  },
  {
   "cell_type": "code",
   "execution_count": null,
   "metadata": {},
   "outputs": [],
   "source": [
    "# 启动摄像头显示任务  Start the camera display task\n",
    "thread1 = threading.Thread(target=task_processing)\n",
    "thread1.setDaemon(True)\n",
    "thread1.start()\n",
    "\n",
    "# 创建一个横向的盒子容器，以便将图像小部件相邻放置\n",
    "# create a horizontal box container to place the image widget next to eachother\n",
    "image_container = widgets.HBox([image_widget])\n",
    "button_group = widgets.HBox([Button_Start, Button_Close_Camera])\n",
    "output = widgets.Output()\n",
    "box_display = widgets.VBox([image_container, button_group, output])\n",
    "display(box_display)"
   ]
  },
  {
   "cell_type": "code",
   "execution_count": null,
   "metadata": {},
   "outputs": [],
   "source": []
  }
 ],
 "metadata": {
  "kernelspec": {
   "display_name": "Python 3 (ipykernel)",
   "language": "python",
   "name": "python3"
  },
  "language_info": {
   "codemirror_mode": {
    "name": "ipython",
    "version": 3
   },
   "file_extension": ".py",
   "mimetype": "text/x-python",
   "name": "python",
   "nbconvert_exporter": "python",
   "pygments_lexer": "ipython3",
   "version": "3.8.10"
  }
 },
 "nbformat": 4,
 "nbformat_minor": 4
}
