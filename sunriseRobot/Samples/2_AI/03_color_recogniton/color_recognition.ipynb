{
 "cells": [
  {
   "cell_type": "markdown",
   "metadata": {
    "tags": []
   },
   "source": [
    "<center><img src=\"../logo.png\" alt=\"Header\" style=\"width: 800px;\"/></center>"
   ]
  },
  {
   "cell_type": "markdown",
   "metadata": {},
   "source": [
    "# 颜色识别  Color Recognition"
   ]
  },
  {
   "cell_type": "code",
   "execution_count": null,
   "metadata": {},
   "outputs": [],
   "source": [
    "# 中文开关，默认为英文 Chinese switch. The default value is English\n",
    "g_ENABLE_CHINESE = False\n",
    "\n",
    "Name_widgets = {\n",
    "    'Close_Camera': (\"Close_Camera\", \"关闭摄像头\")\n",
    "}"
   ]
  },
  {
   "cell_type": "code",
   "execution_count": null,
   "metadata": {},
   "outputs": [],
   "source": [
    "# 显示摄像头组件 Camera display widgets\n",
    "import ipywidgets.widgets as widgets\n",
    "from IPython.display import display\n",
    "\n",
    "import cv2\n",
    "import time\n",
    "import numpy as np\n",
    "\n",
    "\n",
    "import threading\n",
    "\n",
    "import HSV_Config"
   ]
  },
  {
   "cell_type": "code",
   "execution_count": null,
   "metadata": {},
   "outputs": [],
   "source": [
    "#bgr8转jpeg格式\n",
    "def bgr8_to_jpeg(value, quality=75):\n",
    "    return bytes(cv2.imencode('.jpg', value)[1])"
   ]
  },
  {
   "cell_type": "code",
   "execution_count": null,
   "metadata": {},
   "outputs": [],
   "source": [
    "from SunriseRobotLib import Mipi_Camera\n",
    "\n",
    "img_width=320\n",
    "img_height=240\n",
    "\n",
    "g_camera = Mipi_Camera(img_width, img_height)\n",
    "\n",
    "if g_camera.isOpened():\n",
    "    print(\"Open Camera OK\")\n",
    "else:\n",
    "    print(\"Fail To Open Camera\")\n"
   ]
  },
  {
   "cell_type": "code",
   "execution_count": null,
   "metadata": {},
   "outputs": [],
   "source": [
    "update_hsv = HSV_Config.update_hsv()\n",
    "\n",
    "Color_HSV  = {\"Red\"   : ((0, 70, 72), (7, 255, 255)),\n",
    "              \"Green\" : ((54, 109, 78), (77, 255, 255)),\n",
    "              \"Blue\"  : ((92, 100, 62), (121, 251, 255)),\n",
    "              \"Yellow\": ((26, 100, 91), (32, 255, 255))}\n",
    "\n",
    "g_stop_program = False"
   ]
  },
  {
   "cell_type": "code",
   "execution_count": null,
   "metadata": {},
   "outputs": [],
   "source": [
    "# image_widget = widgets.Image(format='jpeg', width=320, height=240)\n",
    "# 摄像头显示控件  Camera display widgets\n",
    "DISPLAY_WIDTH = img_width\n",
    "DISPLAY_HEIGHT = img_height\n",
    "image_widget = widgets.Image(format='jpeg', width=DISPLAY_WIDTH, height=DISPLAY_HEIGHT)"
   ]
  },
  {
   "cell_type": "code",
   "execution_count": null,
   "metadata": {},
   "outputs": [],
   "source": [
    "# 关闭摄像头 Close_Camera\n",
    "Button_Close_Camera = widgets.Button(  \n",
    "    value=False,  \n",
    "    description=Name_widgets['Close_Camera'][g_ENABLE_CHINESE],      \n",
    "    button_style='danger', # 'success', 'info', 'warning', 'danger' or ''     \n",
    "    tooltip='Description',     \n",
    "    icon='uncheck' )\n",
    "\n",
    "\n",
    "# 按键按下事件处理   Key press event processing\n",
    "def on_button_close_camera(b):\n",
    "    global g_stop_program\n",
    "    if b.description == Name_widgets['Close_Camera'][g_ENABLE_CHINESE]:\n",
    "        # 停止线程，释放摄像头  Stop the thread and release the camera\n",
    "        b.icon = 'uncheck'\n",
    "        g_stop_program = True\n",
    "        time.sleep(.1)\n",
    "        g_camera.release()\n",
    "    \n",
    "# 关联按键事件回调 Button event callbacks\n",
    "Button_Close_Camera.on_click(on_button_close_camera)"
   ]
  },
  {
   "cell_type": "code",
   "execution_count": null,
   "metadata": {},
   "outputs": [],
   "source": [
    "# 图像处理任务 Image processing tasks\n",
    "def task_processing():\n",
    "    global g_stop_program\n",
    "    t_start = time.time()\n",
    "    m_fps = 0\n",
    "    while g_camera.isOpened():\n",
    "        if g_stop_program:\n",
    "            break\n",
    "        ret, frame = g_camera.read()\n",
    "        frame, binary = update_hsv.get_contours(frame,Color_HSV)\n",
    "        \n",
    "        m_fps = m_fps + 1\n",
    "        fps = m_fps / (time.time() - t_start)\n",
    "        if (time.time() - t_start) >= 2:\n",
    "            m_fps = fps\n",
    "            t_start = time.time() - 1\n",
    "        cv2.putText(frame, \"FPS \" + str(int(fps)), (10,20), cv2.FONT_HERSHEY_SIMPLEX, 0.5, (0,255,255), 1)\n",
    "        \n",
    "        # 图像传输给显示组件 The image is transmitted to the display component\n",
    "        image_widget.value = bgr8_to_jpeg(frame)\n",
    "        # time.sleep(.01)"
   ]
  },
  {
   "cell_type": "code",
   "execution_count": null,
   "metadata": {},
   "outputs": [],
   "source": [
    "# 启动摄像头显示任务  Start the camera display task\n",
    "thread1 = threading.Thread(target=task_processing)\n",
    "thread1.setDaemon(True)\n",
    "thread1.start()\n",
    "\n",
    "\n",
    "# 创建一个盒子容器，以便将图像小部件相邻放置\n",
    "# create a box container to place the image widget next to eachother\n",
    "box_display = widgets.HBox([image_widget, Button_Close_Camera])\n",
    "display(box_display)"
   ]
  },
  {
   "cell_type": "code",
   "execution_count": null,
   "metadata": {},
   "outputs": [],
   "source": []
  }
 ],
 "metadata": {
  "kernelspec": {
   "display_name": "Python 3 (ipykernel)",
   "language": "python",
   "name": "python3"
  },
  "language_info": {
   "codemirror_mode": {
    "name": "ipython",
    "version": 3
   },
   "file_extension": ".py",
   "mimetype": "text/x-python",
   "name": "python",
   "nbconvert_exporter": "python",
   "pygments_lexer": "ipython3",
   "version": "3.8.10"
  }
 },
 "nbformat": 4,
 "nbformat_minor": 4
}
